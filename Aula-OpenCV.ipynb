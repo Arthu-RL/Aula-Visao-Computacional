{
  "cells": [
    {
      "cell_type": "code",
      "execution_count": null,
      "metadata": {
        "colab": {
          "base_uri": "https://localhost:8080/"
        },
        "id": "Alhsen1zqxwg",
        "outputId": "591df3dd-85c1-4652-b3e7-28bc8b731516"
      },
      "outputs": [],
      "source": [
        "# Instala o pacote opencv-python, que é uma versão Python da biblioteca OpenCV (Open Source Computer Vision),\n",
        "# utilizada para processamento de imagem e vídeo, detecção de objetos, reconhecimento facial, entre outros.\n",
        "!pip install opencv-python\n",
        "\n",
        "# Instala o pacote numpy, que é uma biblioteca fundamental para computação numérica em Python,\n",
        "# oferecendo suporte para arrays multidimensionais, funções matemáticas de alto nível e álgebra linear.\n",
        "!pip install numpy\n",
        "\n",
        "# Instala o pacote matplotlib, que é uma biblioteca de visualização de dados em Python,\n",
        "# permitindo a criação de gráficos estáticos, interativos, 3D, histogramas, entre outros tipos de gráficos.\n",
        "!pip install matplotlib"
      ]
    },
    {
      "cell_type": "code",
      "execution_count": null,
      "metadata": {
        "id": "j1d2zd4xY1Fh"
      },
      "outputs": [],
      "source": [
        "# Importa a biblioteca OpenCV, que é uma biblioteca amplamente utilizada para processamento de imagem e vídeo.\n",
        "# Ela fornece uma variedade de funções para carregar, manipular e salvar imagens e vídeos.\n",
        "import cv2\n",
        "\n",
        "# Importa a biblioteca NumPy, que é uma biblioteca fundamental para computação numérica em Python.\n",
        "# Ela oferece suporte para arrays multidimensionais e uma variedade de funções matemáticas de alto nível.\n",
        "import numpy as np\n",
        "\n",
        "# Importa a biblioteca Matplotlib, que é uma biblioteca de visualização de dados em Python.\n",
        "# Ela permite criar uma variedade de gráficos, como gráficos de linhas, histogramas, gráficos de dispersão, etc.\n",
        "import matplotlib.pyplot as plt\n",
        "\n",
        "# Importa a biblioteca sys, que fornece acesso a algumas variáveis e funções utilizadas ou mantidas pelo interpretador Python.\n",
        "# Ela fornece informações sobre o ambiente em que o interpretador está sendo executado e permite interagir com o sistema.\n",
        "import sys\n"
      ]
    },
    {
      "cell_type": "code",
      "execution_count": null,
      "metadata": {
        "colab": {
          "base_uri": "https://localhost:8080/",
          "height": 424
        },
        "id": "Cyx5e-weKBWm",
        "outputId": "4378a64a-691f-4b93-f8a5-ac6dbca8a866"
      },
      "outputs": [],
      "source": [
        "# Define o caminho da imagem a ser carregada\n",
        "caminhoImagem = './dataset/example1.jpg'  # Substitua por seu caminho de imagem\n",
        "\n",
        "# Carrega a imagem utilizando o OpenCV. A imagem é lida em formato BGR (Blue-Green-Red).\n",
        "imagem_bgr = cv2.imread(caminhoImagem)\n",
        "\n",
        "# Converte a imagem de BGR para RGB, pois o Matplotlib espera imagens no formato RGB.\n",
        "imagem_rgb = cv2.cvtColor(imagem_bgr, cv2.COLOR_BGR2RGB)\n",
        "\n",
        "# Redimensiona a imagem para uma largura de 800 pixels e uma altura de 500 pixels.\n",
        "imagem = cv2.resize(imagem_rgb, dsize=(800, 500))\n",
        "\n",
        "# Cria uma nova figura de tamanho 8x8 polegadas para exibir a imagem.\n",
        "plt.figure(figsize=(8, 8))\n",
        "\n",
        "# Desativa a exibição dos eixos (linhas de grade e números dos eixos) na plotagem.\n",
        "plt.axis('off')\n",
        "\n",
        "# Exibe a imagem na plotagem.\n",
        "plt.imshow(imagem)\n",
        "\n",
        "# Mostra a plotagem.\n",
        "plt.show()\n"
      ]
    },
    {
      "cell_type": "code",
      "execution_count": null,
      "metadata": {
        "colab": {
          "base_uri": "https://localhost:8080/"
        },
        "id": "DoxiTYoKMm5q",
        "outputId": "af4fdd40-ebf5-4842-9fa5-72c7b825058c"
      },
      "outputs": [],
      "source": [
        "# Divide o caminho da imagem usando '/' como delimitador e pega o último elemento da lista resultante, que é o nome do arquivo.\n",
        "# Em seguida, divide o nome do arquivo usando '.' como delimitador e pega o primeiro elemento da lista resultante, que é o nome do arquivo sem a extensão.\n",
        "nomeImagem = f\"{caminhoImagem.split('/')[-1].split('.')[0]}\"\n",
        "\n",
        "# Imprime o nome da imagem\n",
        "print(nomeImagem)\n"
      ]
    },
    {
      "cell_type": "code",
      "execution_count": null,
      "metadata": {
        "colab": {
          "base_uri": "https://localhost:8080/"
        },
        "id": "C27p388mKN9F",
        "outputId": "d2a62572-7003-4d85-88eb-52a2e9582a05"
      },
      "outputs": [],
      "source": [
        "# Clona a imagem, criando uma cópia independente dela.\n",
        "cloneImagem = imagem.copy()\n",
        "\n",
        "# Recupera as informações da imagem clonada utilizando o método shape do NumPy.\n",
        "# O método shape retorna uma tupla que representa as dimensões da matriz da imagem.\n",
        "# No caso de uma imagem colorida, o shape retornará uma tupla no formato (altura, largura, canais).\n",
        "altura, largura, canais = cloneImagem.shape\n",
        "\n",
        "# Imprime as informações da imagem clonada, incluindo altura, largura e número de canais.\n",
        "print(f\"Altura: {altura}, largura: {largura}, canais: {canais}\")\n"
      ]
    },
    {
      "cell_type": "code",
      "execution_count": null,
      "metadata": {
        "colab": {
          "base_uri": "https://localhost:8080/",
          "height": 424
        },
        "id": "EafAi2fXO5Ka",
        "outputId": "31bbd3f4-3fe2-42a5-9378-4ef3d519f58a"
      },
      "outputs": [],
      "source": [
        "# Colocando texto na imagem clone\n",
        "cv2.putText(cloneImagem, \"Área da imagem: \"+str(largura*altura), (20, 30), 1, 1.2, (255, 222, 124), 1)\n",
        "cv2.putText(cloneImagem, \"Canais: \"+str(canais), (20, 60), 1, 1.2, (0, 255, 255), 1)\n",
        "\n",
        "# Desenhando formas geométricas na imagem\n",
        "cv2.rectangle(cloneImagem, (50, 100, 100, 50), (255, 255, 255), 2)  # Desenha um retângulo\n",
        "cv2.line(cloneImagem, (50, 200), (400, 200), (255, 255, 255), 2)  # Desenha uma linha\n",
        "cv2.circle(cloneImagem, (100, 250), 20, (255, 255, 255), 2)  # Desenha um círculo\n",
        "cv2.ellipse(cloneImagem, (300, 400), (100, 200), 90, 0, 360, (255, 255, 255), 2)  # Desenha uma elipse\n",
        "\n",
        "# Salvando a imagem clone\n",
        "cv2.imwrite('imagem_Clone.jpg', cloneImagem)\n",
        "\n",
        "# Exibindo a imagem clone com matplotlib\n",
        "plt.figure(figsize=(8,8))\n",
        "plt.axis('off')\n",
        "plt.imshow(cloneImagem)\n",
        "plt.show()\n"
      ]
    },
    {
      "cell_type": "code",
      "execution_count": null,
      "metadata": {
        "colab": {
          "base_uri": "https://localhost:8080/",
          "height": 424
        },
        "id": "jZUOkyj5O5bc",
        "outputId": "3bd77338-464b-4ba2-91a7-5c1826593061"
      },
      "outputs": [],
      "source": [
        "# Convertendo a imagem para escala de cinza\n",
        "cinza = cv2.cvtColor(imagem, cv2.COLOR_BGR2GRAY)\n",
        "\n",
        "# Exibindo a imagem em escala de cinza com matplotlib\n",
        "plt.figure(figsize=(8,8))\n",
        "plt.axis('off')\n",
        "plt.imshow(cv2.cvtColor(cinza, cv2.COLOR_BGR2RGB))  # Convertendo de BGR para RGB para exibir corretamente com matplotlib\n",
        "plt.show()\n"
      ]
    },
    {
      "cell_type": "code",
      "execution_count": null,
      "metadata": {
        "colab": {
          "base_uri": "https://localhost:8080/",
          "height": 446
        },
        "id": "k-9bYthtQSEi",
        "outputId": "9f01d3fa-7ae1-43eb-ff06-18fc51b8daf5"
      },
      "outputs": [],
      "source": [
        "# Detectando bordas na imagem usando o algoritmo Canny\n",
        "bordas = cv2.Canny(imagem, 100, 200)\n",
        "\n",
        "# Exibindo a imagem com as bordas detectadas usando matplotlib\n",
        "plt.figure(figsize=(8,8))\n",
        "plt.title('Detecção de Bordas')\n",
        "plt.axis('off')\n",
        "plt.imshow(cv2.cvtColor(bordas, cv2.COLOR_BGR2RGB))  # Convertendo de BGR para RGB para exibir corretamente com matplotlib\n",
        "plt.show()\n"
      ]
    },
    {
      "cell_type": "code",
      "execution_count": null,
      "metadata": {
        "colab": {
          "base_uri": "https://localhost:8080/",
          "height": 446
        },
        "id": "FzPg779BS298",
        "outputId": "ade56525-9a8d-408f-d570-ad828d724dc0"
      },
      "outputs": [],
      "source": [
        "# Encontrando os contornos na imagem usando a função findContours do OpenCV\n",
        "contornos, _ = cv2.findContours(bordas, cv2.RETR_LIST, cv2.CHAIN_APPROX_SIMPLE)\n",
        "\n",
        "# Criando uma cópia da imagem original para desenhar os contornos sobre ela\n",
        "contornosImagem = imagem.copy()\n",
        "\n",
        "# Desenhando os contornos encontrados na imagem copiada\n",
        "cv2.drawContours(contornosImagem, contornos, -1, (0,255,0), 3)\n",
        "\n",
        "# Exibindo a imagem com os contornos desenhados utilizando matplotlib\n",
        "plt.figure(figsize=(8,8))\n",
        "plt.title('Contornos')\n",
        "plt.axis('off')\n",
        "plt.imshow(contornosImagem)\n",
        "plt.show()\n"
      ]
    },
    {
      "cell_type": "code",
      "execution_count": null,
      "metadata": {
        "colab": {
          "base_uri": "https://localhost:8080/",
          "height": 446
        },
        "id": "avdIb69sUqGo",
        "outputId": "99551cd0-83e2-44c2-ddf5-3d9ea2d35b24"
      },
      "outputs": [],
      "source": [
        "# Aplicando desfoque gaussiano na imagem usando a função GaussianBlur do OpenCV\n",
        "desfoque = cv2.GaussianBlur(imagem, (7, 7), 0)\n",
        "\n",
        "# Exibindo a imagem desfocada utilizando matplotlib\n",
        "plt.figure(figsize=(8,8))\n",
        "plt.title('Imagem Desfocada')\n",
        "plt.axis('off')\n",
        "plt.imshow(desfoque)\n",
        "plt.show()\n"
      ]
    },
    {
      "cell_type": "code",
      "execution_count": null,
      "metadata": {
        "colab": {
          "base_uri": "https://localhost:8080/",
          "height": 446
        },
        "id": "BZhEIsGQU5YU",
        "outputId": "6d492418-2397-4154-9913-483560a2dc96"
      },
      "outputs": [],
      "source": [
        "# Aplicando a operação de erosão na imagem usando a função erode do OpenCV\n",
        "erosão = cv2.erode(imagem, None, iterations=2)\n",
        "\n",
        "# Exibindo a imagem erodida utilizando matplotlib\n",
        "plt.figure(figsize=(8,8))\n",
        "plt.title('Imagem Erodida')\n",
        "plt.axis('off')\n",
        "plt.imshow(erosão)\n",
        "plt.show()"
      ]
    },
    {
      "cell_type": "code",
      "execution_count": null,
      "metadata": {
        "colab": {
          "base_uri": "https://localhost:8080/",
          "height": 446
        },
        "id": "yuTxihIvVABj",
        "outputId": "6f74b2ca-e3f4-469e-c269-236a3586b16c"
      },
      "outputs": [],
      "source": [
        "# Aplicando a operação de dilatação na imagem usando a função dilate do OpenCV\n",
        "dilatada = cv2.dilate(imagem, None, iterations=2)\n",
        "\n",
        "# Exibindo a imagem dilatada utilizando matplotlib\n",
        "plt.figure(figsize=(8,8))\n",
        "plt.title('Imagem Dilatada')\n",
        "plt.axis('off')\n",
        "plt.imshow(dilatada)\n",
        "plt.show()"
      ]
    },
    {
      "cell_type": "code",
      "execution_count": null,
      "metadata": {
        "colab": {
          "base_uri": "https://localhost:8080/",
          "height": 446
        },
        "id": "rGtt1ifKWA5f",
        "outputId": "08f5b4d7-0157-40b0-9bf2-8dd5c9882f2f"
      },
      "outputs": [],
      "source": [
        "# Convertendo a imagem para o tipo float32\n",
        "cinza = np.float32(cinza)\n",
        "\n",
        "# Detectando cantos na imagem usando o algoritmo de Harris\n",
        "harris_corners = cv2.cornerHarris(cinza, 2, 3, 0.04)\n",
        "\n",
        "# Criando uma cópia da imagem original para destacar os cantos\n",
        "imagem_harris = imagem.copy()\n",
        "\n",
        "# Definindo um limiar para os valores de Harris corners\n",
        "threshold = 0.01 * harris_corners.max()\n",
        "\n",
        "# Destacando os cantos na imagem original\n",
        "imagem_harris[harris_corners > threshold] = [0, 255, 0]\n",
        "\n",
        "# Exibindo a imagem com os cantos detectados usando matplotlib\n",
        "plt.figure(figsize=(8,8))\n",
        "plt.title('Imagem Canto')\n",
        "plt.axis('off')\n",
        "plt.imshow(imagem_harris)\n",
        "plt.show()"
      ]
    },
    {
      "cell_type": "code",
      "execution_count": null,
      "metadata": {
        "id": "ODeQFk-Jawy4"
      },
      "outputs": [],
      "source": [
        "# Caminho do arquivo de vídeo\n",
        "caminhoVideo = \"./dataset/video0.mp4\"\n",
        "\n",
        "# Abrindo o vídeo para captura\n",
        "cap = cv2.VideoCapture(caminhoVideo)\n",
        "\n",
        "# Verificando se o vídeo foi aberto corretamente\n",
        "if cap.isOpened() == False:\n",
        "    print(\"Video não foi aberto!\")\n",
        "    sys.exit(1)\n",
        "\n",
        "# Obtendo a largura e a altura do vídeo\n",
        "largura = int(cap.get(cv2.CAP_PROP_FRAME_WIDTH))\n",
        "altura = int(cap.get(cv2.CAP_PROP_FRAME_HEIGHT))\n",
        "\n",
        "print(f\"largura: {largura}\\naltura: {altura}\")\n",
        "\n",
        "# Inicializando o contador de imagens\n",
        "contador_imagens = 0\n",
        "\n",
        "# Loop para ler cada frame do vídeo\n",
        "while True:\n",
        "    # Lendo um frame do vídeo\n",
        "    lido, imagem = cap.read()\n",
        "\n",
        "    # Verificando se o frame foi lido corretamente\n",
        "    if not lido:\n",
        "        break\n",
        "\n",
        "    # Incrementando o contador de imagens\n",
        "    contador_imagens += 1\n",
        "\n",
        "# Exibindo o total de frames capturados\n",
        "print(f\"Total de frames capturados: {contador_imagens}\")\n"
      ]
    }
  ],
  "metadata": {
    "colab": {
      "provenance": []
    },
    "kernelspec": {
      "display_name": "Python 3",
      "name": "python3"
    },
    "language_info": {
      "codemirror_mode": {
        "name": "ipython",
        "version": 3
      },
      "file_extension": ".py",
      "mimetype": "text/x-python",
      "name": "python",
      "nbconvert_exporter": "python",
      "pygments_lexer": "ipython3",
      "version": "3.10.12"
    }
  },
  "nbformat": 4,
  "nbformat_minor": 0
}
